{
 "cells": [
  {
   "cell_type": "markdown",
   "id": "f9831f88-4dc7-4da1-b859-25238387713c",
   "metadata": {
    "jp-MarkdownHeadingCollapsed": true,
    "tags": []
   },
   "source": [
    "# Read .docx and extract text\n",
    "\n",
    "Look for `exemplo_parser` for supported samples"
   ]
  },
  {
   "cell_type": "code",
   "execution_count": null,
   "id": "9495bc27-4c81-40be-b37b-cbda3adaa485",
   "metadata": {},
   "outputs": [],
   "source": [
    "import os\n",
    "import re\n",
    "\n",
    "from docx2python import docx2python"
   ]
  },
  {
   "cell_type": "code",
   "execution_count": null,
   "id": "249a2d33-9018-4763-b0db-53209cea7e67",
   "metadata": {},
   "outputs": [],
   "source": [
    "data_folder = 'data'\n",
    "files = [\n",
    "    os.path.join(data_folder, x)\n",
    "    for x in os.listdir('data')\n",
    "    if x.endswith('.docx')\n",
    "]\n",
    "files[0:5]"
   ]
  },
  {
   "cell_type": "code",
   "execution_count": null,
   "id": "01748e11-563e-4363-a299-f4b2670383a2",
   "metadata": {},
   "outputs": [],
   "source": [
    "cur_file = 'data/EDT_2021-03-27T12-26-25-173293-Teste_Sas.docx'\n",
    "cur_file = 'data/2021-03-27T15-25-14-475780-exemplo_parser.docx'\n",
    "contents = docx2python(cur_file, html=False)\n",
    "\n",
    "pattern = \"\\(\\d+, \\d+, \\d+, \\d+\\) \"  # noqa\n",
    "html_txt = contents.html_map.replace('<pre>', '').replace('</pre>', '')\n",
    "\n",
    "lines = re.split(pattern, html_txt)\n",
    "lines = [x.strip() for x in lines]\n",
    "lines\n",
    "# print(contents.html_map.replace('</pre><pre>', '\\n'))"
   ]
  },
  {
   "cell_type": "code",
   "execution_count": null,
   "id": "37163f1e-1b1b-473e-b184-3879be99ddb8",
   "metadata": {},
   "outputs": [],
   "source": [
    "contents = docx2python(cur_file, html=False)\n",
    "cur_text = contents.text\n",
    "print(cur_text)"
   ]
  },
  {
   "cell_type": "markdown",
   "id": "c2a56b04-897e-48f9-b240-5136ff1df744",
   "metadata": {},
   "source": [
    "# Do parsing"
   ]
  },
  {
   "cell_type": "code",
   "execution_count": null,
   "id": "7bcb5908-2c4d-4127-80ec-e8a938b64620",
   "metadata": {},
   "outputs": [],
   "source": [
    "%load_ext autoreload\n",
    "%autoreload 2\n",
    "\n",
    "\n",
    "from similarity_parser import SimilarityParser  # noqa"
   ]
  },
  {
   "cell_type": "code",
   "execution_count": null,
   "id": "eace5314-4fb6-4014-b1c8-b67357ed2eb1",
   "metadata": {},
   "outputs": [],
   "source": [
    "sp = SimilarityParser()"
   ]
  },
  {
   "cell_type": "code",
   "execution_count": null,
   "id": "ca666b5c-6efc-4c3e-b443-77d83a3bcdf7",
   "metadata": {},
   "outputs": [],
   "source": [
    "q_lines = sp.parse_questions(cur_text)\n",
    "q_lines"
   ]
  },
  {
   "cell_type": "code",
   "execution_count": null,
   "id": "f012ab7a-c9cf-4309-ba25-4d182c9048f6",
   "metadata": {},
   "outputs": [],
   "source": []
  },
  {
   "cell_type": "code",
   "execution_count": null,
   "id": "47d45ef6-4dce-4c5a-b898-332140884280",
   "metadata": {},
   "outputs": [],
   "source": []
  },
  {
   "cell_type": "markdown",
   "id": "a2ce4906-0d10-4feb-bb28-b9f6dc1ccd3b",
   "metadata": {
    "tags": []
   },
   "source": [
    "# Unit test draft"
   ]
  },
  {
   "cell_type": "code",
   "execution_count": null,
   "id": "5d237b31-7f9b-4f9c-8518-16300a8f43fd",
   "metadata": {},
   "outputs": [],
   "source": [
    "import text_utils"
   ]
  },
  {
   "cell_type": "code",
   "execution_count": null,
   "id": "1b83a499-96db-44c4-a32c-7225bebc12d0",
   "metadata": {},
   "outputs": [],
   "source": [
    "words = ['Gabrito', 'comntado:', 'C']\n",
    "word_list = ['Gabarito comentado', 'Resposta bem detalhada']\n",
    "text_utils.min_first_words_match_list(words, word_list)"
   ]
  },
  {
   "cell_type": "code",
   "execution_count": null,
   "id": "8b14799e-d258-4df0-9c59-897fc0782eb9",
   "metadata": {},
   "outputs": [],
   "source": [
    "words = ['Gabrito', 'comntado:', 'C']\n",
    "word_list = ['Gabarito comentado', 'Resposta bem detalhada']\n",
    "# now the last `:` matters\n",
    "text_utils.min_first_words_match_list(words, word_list, remove_last_char=False)"
   ]
  },
  {
   "cell_type": "code",
   "execution_count": null,
   "id": "f6ed31dc-121a-4fef-a834-ecb1da862f63",
   "metadata": {},
   "outputs": [],
   "source": [
    "words = ['Gabrito', 'comntado:', 'C']\n",
    "word_list = ['Gabarito comentado', 'Resposta bem detalhada']\n",
    "# expect no match\n",
    "text_utils.min_first_words_match_list(words, word_list, remove_last_char=True, last_char_match_list = [')'])"
   ]
  },
  {
   "cell_type": "code",
   "execution_count": null,
   "id": "0d4d9e45-4ca6-47b2-9ca3-ce9ba9d96b6b",
   "metadata": {},
   "outputs": [],
   "source": [
    "words = ['Gabrito', 'comntado:', 'C']\n",
    "word_list = ['Gabarito comentado', 'Resposta bem detalhada']\n",
    "# now the last `:` matches\n",
    "text_utils.min_first_words_match_list(words, word_list, remove_last_char=True, last_char_match_list = [')', ':'])"
   ]
  },
  {
   "cell_type": "code",
   "execution_count": null,
   "id": "f0e789bb-72e6-4711-afab-8980e0ac11a8",
   "metadata": {},
   "outputs": [],
   "source": [
    "words = ['Repsosta', 'bem', 'detalada']\n",
    "word_list = ['Gabarito comentado', 'Resposta bem detalhada']\n",
    "text_utils.min_first_words_match_list(words, word_list)"
   ]
  },
  {
   "cell_type": "code",
   "execution_count": null,
   "id": "83aad2e3-8025-42d9-bafd-1b3cf13dfb41",
   "metadata": {},
   "outputs": [],
   "source": [
    "text_utils.word_distance('resposta', 'Resposta')"
   ]
  },
  {
   "cell_type": "code",
   "execution_count": null,
   "id": "3a3dc620-fced-4328-bfd4-0d5c96d7c8a7",
   "metadata": {},
   "outputs": [],
   "source": []
  }
 ],
 "metadata": {
  "kernelspec": {
   "display_name": "Python 3 (ipykernel)",
   "language": "python",
   "name": "python3"
  },
  "language_info": {
   "codemirror_mode": {
    "name": "ipython",
    "version": 3
   },
   "file_extension": ".py",
   "mimetype": "text/x-python",
   "name": "python",
   "nbconvert_exporter": "python",
   "pygments_lexer": "ipython3",
   "version": "3.9.7"
  }
 },
 "nbformat": 4,
 "nbformat_minor": 5
}
