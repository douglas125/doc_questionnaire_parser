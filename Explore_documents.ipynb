{
 "cells": [
  {
   "cell_type": "markdown",
   "id": "f9831f88-4dc7-4da1-b859-25238387713c",
   "metadata": {
    "tags": []
   },
   "source": [
    "# Read .docx and extract text\n",
    "\n",
    "Look for `exemplo_parser` for supported samples"
   ]
  },
  {
   "cell_type": "code",
   "execution_count": 1,
   "id": "9495bc27-4c81-40be-b37b-cbda3adaa485",
   "metadata": {},
   "outputs": [],
   "source": [
    "import os\n",
    "import re\n",
    "import pprint\n",
    "import logging\n",
    "\n",
    "from bs4 import BeautifulSoup\n",
    "\n",
    "from docx2python import docx2python"
   ]
  },
  {
   "cell_type": "code",
   "execution_count": 2,
   "id": "17f4de69-8879-4a0f-91e6-b8d2bfe9fba8",
   "metadata": {},
   "outputs": [],
   "source": [
    "logging.getLogger().setLevel(logging.DEBUG)"
   ]
  },
  {
   "cell_type": "code",
   "execution_count": 3,
   "id": "249a2d33-9018-4763-b0db-53209cea7e67",
   "metadata": {},
   "outputs": [
    {
     "data": {
      "text/plain": [
       "['data\\\\2020-12-07T19-13-48-000957-Lista_de_exerccios.docx',\n",
       " 'data\\\\2021-03-14T18-36-54-169285-Calculos_lista_1_massa_molecular_para_classe.docx',\n",
       " 'data\\\\2021-03-15T01-07-23-469040-Exerccios_sobre_Kant-1.docx',\n",
       " 'data\\\\2021-03-15T19-22-21-757370-Clculos_qumicos_1 (1).docx',\n",
       " 'data\\\\2021-03-15T19-22-21-757370-Clculos_qumicos_1.docx']"
      ]
     },
     "execution_count": 3,
     "metadata": {},
     "output_type": "execute_result"
    }
   ],
   "source": [
    "data_folder = 'data'\n",
    "files = [\n",
    "    os.path.join(data_folder, x)\n",
    "    for x in os.listdir('data')\n",
    "    if x.endswith('.docx')\n",
    "]\n",
    "files[0:5]"
   ]
  },
  {
   "cell_type": "code",
   "execution_count": 4,
   "id": "01748e11-563e-4363-a299-f4b2670383a2",
   "metadata": {},
   "outputs": [
    {
     "name": "stdout",
     "output_type": "stream",
     "text": [
      "\n",
      "ABCD1234\n",
      "\n",
      "Irrelevante\n",
      "\n",
      "\n",
      "Exercicho 1. (UNICAMPONIS) Teste de fonte. Teste de fonte. Qual <das> alternativas abaixo o parser não aceita como nome de exercício:\n",
      "\n",
      "\n",
      "ABCD1234\n",
      "\n",
      "\n",
      "\n",
      "a) “Exercício 1.”\n",
      "b) “Exercicio 1.”\n",
      "C -  “Exercise 1.”\n",
      "d) “Exercício 1)”\n",
      "e- “Exercicio 1)”\n",
      "f) “Exercise 1)”\n",
      "g) “Exercício 01”\n",
      "h) “1.”\n",
      "\n",
      "Dica: O marcador final é obrigatório, podendo ser um “.” , “)” ou  “-”.\n",
      "Dika:  A palavra “Exercício” é obrigatória, podendo estar em inglês, no caso “Exercise”\n",
      "\n",
      "DIFICULDADE: Média\n",
      "\n",
      "resposta esperaad: h\n",
      "\n",
      "Tags: Geografia, Física, Relevo\n",
      "\n",
      "\n",
      "Exercicio 2. (USP) Assinale a opção em que os marcadores de alternativas estão sendo usados corretamente.\n",
      "\n",
      "a) ----media/image1.png----\n",
      "\n",
      "b) ----media/image2.png----\n",
      "\n",
      "c) ----media/image3.png----\n",
      "\n",
      "d) ----media/image4.png----\n",
      "\n",
      "e) ----media/image5.png----\n",
      "\n",
      "\n",
      "f) ----media/image6.png----\n",
      "\n",
      "Dica: É essencial que os marcadores de alternativa usem letras, seguidas de parênteses simples ou traço. Você pode indicar tantas alternativas quanto desejar.\n",
      "\n",
      "Dificuldade: Fácil\n",
      "\n",
      "Resposta: f\n",
      "\n",
      "Exercise 3. (UNICAMP) Para exercícios de múltipla escolha, é necessário indicar qual a resposta correta. Assinale abaixo a alternativa em que todas as opções são aceitas pelo parser:\n",
      "\n",
      "a) ----media/image7.png----\n",
      "\n",
      "b) ----media/image8.png----\n",
      "\n",
      "c) ----media/image9.png----\n",
      "\n",
      "d) ----media/image10.png----\n",
      "\n",
      "e) ----media/image11.png----\n",
      "\n",
      "Dica: Note que é obrigatório que a palavra ‘resposta’ esteja escrita corretamente, com todas as letras, e que haja dois pontos antes da alternativa. \n",
      "Dificuldade: Médio\n",
      "\n",
      "resposta: a\n",
      "\n",
      "Exercício  4)  (ITA) Por enquanto, as tabelas e fórmulas do word não são interpretadas pelo parser, uma alternativa para colocar tabelas na série de exercícios é transformar a tabela em uma imagem, como esta:\n",
      "----media/image12.png----\n",
      "\n",
      "----media/image13.png----\n",
      "\n",
      "Além de JPG, qual o formato/tipo de imagem aceita pelo interpretador? (Escreva o nome da sigla com 3 letras)\n",
      "\n",
      "Dica: Observe que para criar uma questão com resposta aberta basta não adicionar alternativas.\n",
      "\n",
      "Resposta: PNG\n",
      "\n",
      "\n",
      "Exercicio  5)  Ao subir uma série de exercícios no QMágico, há várias informações que podem ser colocadas nos exercícios, como a lista de alternativas, dicas, dificuldade, resposta, tags, etc.\n",
      "Nem todas essas informações são obrigatórias, assinale a alternativa em que todos os marcadores para exercícios são opcionais.\n",
      "a) Marcador de início de exercício\n",
      "b) Tags, Dicas, Dificuldade, Fonte\n",
      "c) Resposta\n",
      "d) Lista de alternativas\n",
      "\n",
      "Resposta: b\n",
      "\n",
      "\n",
      "Exercise  6)  (USP) A sua lista será interpretada mesmo que você não indique nenhuma dica. Porém, caso você queira usar esse recurso e dar a possibilidade dos seus alunos pedirem uma ajudinha, basta colocar a palavra “Dica” após a resposta seguida de dois pontos.\n",
      "É possível também colocar mais de uma dica para um exercício, como isso deve ser feito?\n",
      "\n",
      "a) Numerando as dicas\n",
      "b) Separar por vírgulas\n",
      "c) Separar por ponto e vírgula\n",
      "d) Apenas colocar as dicas uma embaixo da outra.\n",
      "\n",
      "Dica: primeira dica\n",
      "Dica: segunda dica\n",
      "\n",
      "Resposta: d\n",
      "\n",
      "\n",
      "\n",
      "Exercício  7) (QMágico) As tags são informações opcionais, etiquetas que ajudam a classificar questões e organizar a biblioteca. Caso deseje cadastrar no banco de dados informações de tags, que são ‘etiquetas’ para classificar as questões, basta utilizar o marcador ‘Tags’, seguido de dois pontos, e das tags desejadas, separados por vírgulas. \n",
      "Assinale a alternativa em que o cadastro das tags “Ciências”, “Taxonomia” e “Tags” está correto.\n",
      "a) Tags: Ciências, Taxonomia, Tags\n",
      "b) Tags: Ciências; Taxonomia; Tags;\n",
      "c) Tag: Ciências, Taxonomia, Tags\n",
      "d) Tags: Ciências – Taxonomia - Tags\n",
      "\n",
      "Resposta: A\n",
      "\n",
      "Tags: Ciências, Taxonomia, Tags\n",
      "\n",
      "Questaop 8) (QMágico) Para que um exercício esse interpretado como dissertativa, ele deve conter o enunciado e não pode conter o marcador resposta ou marcadores de alternativas.\n",
      "\n",
      "Dica: Os marcadores (tags, fonte, dificuldade..) devem ser colocados após o enunciado e antes do gabarito comentado.\n",
      "\n",
      "Gabbarito Comentado: O Exercício <pode> conter qualquer um dos marcadores opcionais, tais como: 'Dica', 'Tags', 'Fonte', 'Dificuldade'.\n",
      "\n",
      "\n",
      "\n",
      "XYZ789\n",
      "\n"
     ]
    }
   ],
   "source": [
    "cur_file = 'data/EDT_2021-03-27T12-26-25-173293-Teste_Sas.docx'\n",
    "cur_file = 'data/2021-03-27T15-25-14-475780-exemplo_parser.docx'\n",
    "# cur_file = 'data/estante_qmagtest_www_2021-10-05T06-24-44-076246-Lista_de_recuperao_2o_semestre.docx'\n",
    "\n",
    "contents = docx2python(cur_file, html=True)\n",
    "\n",
    "pattern = \"\\(\\d+, \\d+, \\d+, \\d+\\) \"  # noqa\n",
    "html_txt = contents.html_map\n",
    "\n",
    "html_txt = re.sub(pattern, '', html_txt)\n",
    "soup = BeautifulSoup(html_txt)\n",
    "\n",
    "lines = []\n",
    "for tbl in soup.findAll('table'):\n",
    "    n_rows = len(tbl.findAll(\n",
    "        lambda tag: tag.name == 'tr' and tag.findParent('table') == tbl\n",
    "    ))\n",
    "    n_cols = len(tbl.findAll(\n",
    "        lambda tag: tag.name == 'td' and tag.findParent('table') == tbl\n",
    "    ))\n",
    "    if n_rows == 1 and n_cols == 1:\n",
    "        for txt in tbl.findAll('pre'):\n",
    "            lines.append(str(txt).replace('<pre>', '').replace('</pre>', ''))\n",
    "    else:\n",
    "        lines.append(str(tbl))\n",
    "\n",
    "# lines\n",
    "for x in lines:\n",
    "    soup = BeautifulSoup(x)\n",
    "    print(soup.text)\n",
    "# soup2 = BeautifulSoup(tbls[0][1])"
   ]
  },
  {
   "cell_type": "markdown",
   "id": "c2a56b04-897e-48f9-b240-5136ff1df744",
   "metadata": {},
   "source": [
    "# Do parsing"
   ]
  },
  {
   "cell_type": "code",
   "execution_count": 5,
   "id": "7bcb5908-2c4d-4127-80ec-e8a938b64620",
   "metadata": {},
   "outputs": [],
   "source": [
    "pp = pprint.PrettyPrinter(indent=1, width=180)\n",
    "\n",
    "%load_ext autoreload\n",
    "%autoreload 2\n",
    "\n",
    "\n",
    "from similarity_parser import SimilarityParser  # noqa"
   ]
  },
  {
   "cell_type": "code",
   "execution_count": 6,
   "id": "eace5314-4fb6-4014-b1c8-b67357ed2eb1",
   "metadata": {},
   "outputs": [],
   "source": [
    "sp = SimilarityParser()"
   ]
  },
  {
   "cell_type": "code",
   "execution_count": 7,
   "id": "dbef34a8-a746-4d64-a457-130d78a197db",
   "metadata": {},
   "outputs": [
    {
     "name": "stdout",
     "output_type": "stream",
     "text": [
      "{'all_parsed_tags': {'types': ['hint', 'hint', 'difficulty', 'correct_answer', 'category'],\n",
      "                     'values': ['<font size=\"22\"> O</font><font color=\"000000\" size=\"22\"> marcador final é obrigatório, podendo ser um “.” , “)” ou  “-”.</font>',\n",
      "                                '<font size=\"22\">  A palavra “Exercício</font><font color=\"000000\" size=\"22\">” é obrigatória, podendo estar em inglês, no caso “Exercise”</font>',\n",
      "                                '<font size=\"22\"> Média</font>',\n",
      "                                '<font size=\"22\"> h</font>',\n",
      "                                '<font size=\"22\"> Geografia, Física, Relevo</font>']},\n",
      " 'choices': [{'text': '<font size=\"22\"> “Exercício 1.”</font>'},\n",
      "             {'text': '<font size=\"22\"> “Exercicio 1.”</font>'},\n",
      "             {'text': '<font size=\"22\"><b></b></font><font size=\"22\">  “Exercise 1.”</font>'},\n",
      "             {'text': '<font size=\"22\"> “Exercício 1)”</font>'},\n",
      "             {'text': '<font size=\"22\"> “Exercicio 1)”</font>'},\n",
      "             {'text': '<font size=\"22\"> “Exercise 1)”</font>'},\n",
      "             {'text': '<font size=\"22\"> “Exercício 01”</font>'},\n",
      "             {'text': '<font size=\"22\"> “1.”</font><br><br><br><br><br><br>'}],\n",
      " 'correct_answer': 7,\n",
      " 'hints': ['<font size=\"22\"> O</font><font color=\"000000\" size=\"22\"> marcador final é obrigatório, podendo ser um “.” , “)” ou  “-”.</font>',\n",
      "           '<font size=\"22\">  A palavra “Exercício</font><font color=\"000000\" size=\"22\">” é obrigatória, podendo estar em inglês, no caso “Exercise”</font>'],\n",
      " 'stem': '<font size=\"22\">  (UNICAMPONIS) </font><font size=\"36\">Teste </font><font size=\"36\"><u>de</u></font><font size=\"36\"> fonte</font><font size=\"22\">. </font><font '\n",
      "         'size=\"32\"><b>Teste</b></font><font size=\"32\"> de </font><font size=\"32\"><i>fonte</i></font><font size=\"22\">. Qual &lt;das&gt; alternativas abaixo o parser não aceita '\n",
      "         'como nome de exercício:</font><br><br><br><table '\n",
      "         'border=\"1\"><tr><td>A</td><td>B</td><td>C</td><td>D</td></tr><tr><td>1</td><td>2</td><td>3</td><td>4</td></tr></table><br><br><br>',\n",
      " 'tags': '<font size=\"22\"> Geografia, Física, Relevo</font>',\n",
      " 'type': 'choice'}\n"
     ]
    }
   ],
   "source": [
    "q_lines = sp.parse_docx(cur_file)\n",
    "pp.pprint(q_lines[0])"
   ]
  },
  {
   "cell_type": "code",
   "execution_count": 12,
   "id": "be4089b4-d227-47de-bf72-cdfd517ca46f",
   "metadata": {},
   "outputs": [
    {
     "data": {
      "text/plain": [
       "[]"
      ]
     },
     "execution_count": 12,
     "metadata": {},
     "output_type": "execute_result"
    }
   ],
   "source": [
    "q_lines"
   ]
  },
  {
   "cell_type": "code",
   "execution_count": null,
   "id": "356f7dd4-5716-4d3b-bc41-5ce4eb27f31c",
   "metadata": {},
   "outputs": [],
   "source": []
  },
  {
   "cell_type": "code",
   "execution_count": null,
   "id": "6710f3a4-ab61-4034-a106-b27c68a8a6aa",
   "metadata": {},
   "outputs": [],
   "source": []
  },
  {
   "cell_type": "code",
   "execution_count": null,
   "id": "f012ab7a-c9cf-4309-ba25-4d182c9048f6",
   "metadata": {},
   "outputs": [],
   "source": [
    "pp.pprint(q_lines[-1])"
   ]
  },
  {
   "cell_type": "code",
   "execution_count": null,
   "id": "47d45ef6-4dce-4c5a-b898-332140884280",
   "metadata": {},
   "outputs": [],
   "source": []
  },
  {
   "cell_type": "markdown",
   "id": "a2ce4906-0d10-4feb-bb28-b9f6dc1ccd3b",
   "metadata": {
    "tags": []
   },
   "source": [
    "# Unit test draft"
   ]
  },
  {
   "cell_type": "code",
   "execution_count": null,
   "id": "5d237b31-7f9b-4f9c-8518-16300a8f43fd",
   "metadata": {},
   "outputs": [],
   "source": [
    "import text_utils"
   ]
  },
  {
   "cell_type": "code",
   "execution_count": null,
   "id": "1b83a499-96db-44c4-a32c-7225bebc12d0",
   "metadata": {},
   "outputs": [],
   "source": [
    "words = ['Gabrito', 'comntado:', 'C']\n",
    "word_list = ['Gabarito comentado', 'Resposta bem detalhada']\n",
    "text_utils.min_first_words_match_list(words, word_list)"
   ]
  },
  {
   "cell_type": "code",
   "execution_count": null,
   "id": "8b14799e-d258-4df0-9c59-897fc0782eb9",
   "metadata": {},
   "outputs": [],
   "source": [
    "words = ['Gabrito', 'comntado:', 'C']\n",
    "word_list = ['Gabarito comentado', 'Resposta bem detalhada']\n",
    "# now the last `:` matters\n",
    "text_utils.min_first_words_match_list(words, word_list, remove_last_char=False)"
   ]
  },
  {
   "cell_type": "code",
   "execution_count": null,
   "id": "f6ed31dc-121a-4fef-a834-ecb1da862f63",
   "metadata": {},
   "outputs": [],
   "source": [
    "words = ['Gabrito', 'comntado:', 'C']\n",
    "word_list = ['Gabarito comentado', 'Resposta bem detalhada']\n",
    "# expect no match\n",
    "text_utils.min_first_words_match_list(words, word_list, remove_last_char=True, last_char_match_list = [')'])"
   ]
  },
  {
   "cell_type": "code",
   "execution_count": null,
   "id": "0d4d9e45-4ca6-47b2-9ca3-ce9ba9d96b6b",
   "metadata": {},
   "outputs": [],
   "source": [
    "words = ['Gabrito', 'comntado:', 'C']\n",
    "word_list = ['Gabarito comentado', 'Resposta bem detalhada']\n",
    "# now the last `:` matches\n",
    "text_utils.min_first_words_match_list(words, word_list, remove_last_char=True, last_char_match_list = [')', ':'])"
   ]
  },
  {
   "cell_type": "code",
   "execution_count": null,
   "id": "f0e789bb-72e6-4711-afab-8980e0ac11a8",
   "metadata": {},
   "outputs": [],
   "source": [
    "words = ['Repsosta', 'bem', 'detalada']\n",
    "word_list = ['Gabarito comentado', 'Resposta bem detalhada']\n",
    "text_utils.min_first_words_match_list(words, word_list)"
   ]
  },
  {
   "cell_type": "code",
   "execution_count": null,
   "id": "83aad2e3-8025-42d9-bafd-1b3cf13dfb41",
   "metadata": {},
   "outputs": [],
   "source": [
    "text_utils.word_distance('resposta', 'Resposta')"
   ]
  },
  {
   "cell_type": "code",
   "execution_count": null,
   "id": "3a3dc620-fced-4328-bfd4-0d5c96d7c8a7",
   "metadata": {},
   "outputs": [],
   "source": []
  }
 ],
 "metadata": {
  "kernelspec": {
   "display_name": "Python 3 (ipykernel)",
   "language": "python",
   "name": "python3"
  },
  "language_info": {
   "codemirror_mode": {
    "name": "ipython",
    "version": 3
   },
   "file_extension": ".py",
   "mimetype": "text/x-python",
   "name": "python",
   "nbconvert_exporter": "python",
   "pygments_lexer": "ipython3",
   "version": "3.9.7"
  }
 },
 "nbformat": 4,
 "nbformat_minor": 5
}
